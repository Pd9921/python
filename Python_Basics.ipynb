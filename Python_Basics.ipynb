{
  "cells": [
    {
      "cell_type": "markdown",
      "source": [
        "**THEORY**"
      ],
      "metadata": {
        "id": "hG9VpGW4eMgR"
      }
    },
    {
      "cell_type": "markdown",
      "source": [
        "1 What is Python, and why is it popular\n",
        "     \n",
        "  - Python is a high-level, easy-to-learn programming language popular for its readability, versatility, and wide range of applications from web development to data science."
      ],
      "metadata": {
        "id": "H0c-PQmczPmq"
      }
    },
    {
      "cell_type": "markdown",
      "source": [
        "2 What is an interpreter in Python\n",
        "\n",
        "- An interpreter in Python is a program that reads and executes Python code line by line, translating it into machine-understandable instructions without needing to compile the entire code first."
      ],
      "metadata": {
        "id": "piQSdD5Qz3ZJ"
      }
    },
    {
      "cell_type": "markdown",
      "source": [
        "3 What are pre-defined keywords in Python\n",
        "\n",
        "- Pre-defined keywords in Python are reserved words that have special meaning in the language and cannot be used as variable names, such as if, else, while, def, and class."
      ],
      "metadata": {
        "id": "oNcLz-Zhz70X"
      }
    },
    {
      "cell_type": "markdown",
      "source": [
        "4 Can keywords be used as variable names\n",
        "- No, keywords cannot be used as variable names in Python because they are reserved by the language to represent specific syntax or structure (like if, while, for, def, etc.). Using them as variable names will cause a syntax error."
      ],
      "metadata": {
        "id": "IzA-DkJu0ACh"
      }
    },
    {
      "cell_type": "markdown",
      "source": [
        "5 What is mutability in Python\n",
        "- Mutability in Python refers to whether an object’s value can be changed after it is created.\n",
        "\n",
        " Mutable objects can be changed (e.g., list, dict, set).\n",
        "\n",
        " Immutable objects cannot be changed (e.g., int, float, str, tuple)."
      ],
      "metadata": {
        "id": "yLMJRUuA0F-Y"
      }
    },
    {
      "cell_type": "markdown",
      "source": [
        "6 Why are lists mutable, but tuples are immutable\n",
        "- Lists are mutable because they are designed to store dynamic data that can be changed, added to, or removed, making them ideal for flexible operations.\n",
        "\n",
        " Tuples are immutable because they are meant to store fixed collections of items where the data should not change, ensuring data integrity and allowing them to be used as dictionary keys or stored in sets."
      ],
      "metadata": {
        "id": "NUo5MZ0t0JEU"
      }
    },
    {
      "cell_type": "markdown",
      "source": [
        "7 What is the difference between “==” and “is” operators in Python\n",
        "- == checks value equality (are the contents equal?).\n",
        "\n",
        " is checks identity (are they the same object in memory?)."
      ],
      "metadata": {
        "id": "3c2sneKnAIoV"
      }
    },
    {
      "cell_type": "markdown",
      "source": [
        "8 What are logical operators in Python\n",
        "\n",
        "- Logical operators in Python (and, or, not) are used to combine or modify Boolean expressions to control the flow of a program.\n",
        "\n",
        "\n",
        "\n",
        "\n"
      ],
      "metadata": {
        "id": "EK2yv-DDANEA"
      }
    },
    {
      "cell_type": "markdown",
      "source": [
        "9 What is type casting in Python\n",
        "- Type casting in Python is the process of converting one data type into another, such as converting a string to an integer using int(\"5\")."
      ],
      "metadata": {
        "id": "jv2Zbe4YAQGf"
      }
    },
    {
      "cell_type": "markdown",
      "source": [
        "10 What is the difference between implicit and explicit type casting\n",
        "- Implicit type casting is automatically done by Python when converting types during operations.\n",
        "  \n",
        "  while explicit type casting is manually done by the programmer using functions like int(), float(), or str()."
      ],
      "metadata": {
        "id": "bvPe1odWATLN"
      }
    },
    {
      "cell_type": "markdown",
      "source": [
        "11 What is the purpose of conditional statements in Python\n",
        "- The purpose of conditional statements in Python is to execute certain blocks of code only when specific conditions are met, allowing the program to make decisions."
      ],
      "metadata": {
        "id": "IPYWYwxUAWta"
      }
    },
    {
      "cell_type": "markdown",
      "source": [
        "12 How does the elif statement work\n",
        "- The elif statement in Python stands for \"else if\" and is used to check multiple conditions sequentially; it runs its block only if the previous if and elif conditions are false and its own condition is true."
      ],
      "metadata": {
        "id": "aRY32wOIAZzr"
      }
    },
    {
      "cell_type": "markdown",
      "source": [
        "13 What is the difference between for and while loops\n",
        "- The for loop is used when you know exactly how many times to iterate, typically over a sequence (like a list or range), while the while loop is used when you want to repeat code as long as a condition is true, regardless of how many times it runs.\n"
      ],
      "metadata": {
        "id": "vxrObaA8An6U"
      }
    },
    {
      "cell_type": "markdown",
      "source": [
        "14 Describe a scenario where a while loop is more suitable than a for loop\n",
        "\n",
        "- A while loop is more suitable when you don’t know in advance how many times the loop should run — for example, waiting for user input until they enter a correct password."
      ],
      "metadata": {
        "id": "kgRcBQ72AriL"
      }
    },
    {
      "cell_type": "markdown",
      "source": [
        "**PRACTICALS**"
      ],
      "metadata": {
        "id": "eZJMkttyeEwD"
      }
    },
    {
      "cell_type": "code",
      "source": [
        "#1 Write a Python program to print \"Hello, World!\"\n",
        "#output\n",
        "print(\"Hello World!\")"
      ],
      "metadata": {
        "colab": {
          "base_uri": "https://localhost:8080/"
        },
        "id": "bqOzq5TBhndB",
        "outputId": "63505db9-d50e-4aa0-d0bb-1b98bc7871aa"
      },
      "execution_count": 1,
      "outputs": [
        {
          "output_type": "stream",
          "name": "stdout",
          "text": [
            "Hello World!\n"
          ]
        }
      ]
    },
    {
      "cell_type": "code",
      "source": [
        "#2 Write a Python program that displays your name and age\n",
        "#output\n",
        "print(\"I am Pratik and My age is 24\")"
      ],
      "metadata": {
        "colab": {
          "base_uri": "https://localhost:8080/"
        },
        "id": "7r26cyomh-SW",
        "outputId": "1e04ca00-bae4-43ad-e87f-bea726964876"
      },
      "execution_count": 4,
      "outputs": [
        {
          "output_type": "stream",
          "name": "stdout",
          "text": [
            "I am Pratik and My age is 24\n"
          ]
        }
      ]
    },
    {
      "cell_type": "code",
      "source": [
        "#Write code to print all the pre-defined keywords in Python using the keyword library\n",
        "import keyword\n",
        "print(\"keyboard.kwlist\")\n",
        "for kw in keyword.kwlist:\n",
        "    print(kw)"
      ],
      "metadata": {
        "id": "V3vFhBEHieco"
      },
      "execution_count": null,
      "outputs": []
    },
    {
      "cell_type": "code",
      "source": [
        "#4 Write a program that checks if a given word is a Python keyword.\n",
        "import keyword\n",
        "word = input(\"Enter a word: \")\n",
        "if keyword.iskeyword(word):\n",
        "    print(f\"'{word}' is a Python keyword.\")\n",
        "else:\n",
        "    print(f\"'{word}' is NOT a Python keyword.\")"
      ],
      "metadata": {
        "id": "rDsAdvUujjiX"
      },
      "execution_count": null,
      "outputs": []
    },
    {
      "cell_type": "code",
      "source": [
        "#5 Create a list and tuple in Python, and demonstrate how attempting to change an element works differently for each.\n",
        "my_list = [10, 20, 30]\n",
        "my_tuple = (10, 20, 30)\n",
        "print(\"Original list:\", my_list)\n",
        "my_list[1] = 200\n",
        "print(\"Modified list:\", my_list)\n",
        "print(\"\\nOriginal tuple:\", my_tuple)\n",
        "try:\n",
        "    my_tuple[1] = 200\n",
        "except TypeError as e:\n",
        "    print(\"Error when modifying tuple:\", e)"
      ],
      "metadata": {
        "id": "RFrMmZStkH3I"
      },
      "execution_count": null,
      "outputs": []
    },
    {
      "cell_type": "code",
      "source": [
        "#6 Write a function to demonstrate the behavior of mutable and immutable arguments.\n",
        "def modify_data(num, num_list):\n",
        "    num += 10\n",
        "    num_list.append(100)\n",
        "    print(\"Inside function - num:\", num)\n",
        "    print(\"Inside function - num_list:\", num_list)\n",
        "\n",
        "original_num = 50\n",
        "original_list = [1, 2, 3]\n",
        "\n",
        "print(\"Before function call - num:\", original_num)\n",
        "print(\"Before function call - num_list:\", original_list)\n",
        "\n",
        "modify_data(original_num, original_list)\n",
        "\n",
        "print(\"\\nAfter function call - num:\", original_num)\n",
        "print(\"After function call - num_list:\", original_list)"
      ],
      "metadata": {
        "id": "2czklzcjlCTh"
      },
      "execution_count": null,
      "outputs": []
    },
    {
      "cell_type": "code",
      "source": [
        "#7 Write a program that performs basic arithmetic operations on two user-input numbers\n",
        "num1 = float(input(\"Enter first number: \"))\n",
        "num2 = float(input(\"Enter second number: \"))\n",
        "\n",
        "print(\"\\nResults:\")\n",
        "print(\"Addition:\", num1 + num2)\n",
        "print(\"Subtraction:\", num1 - num2)\n",
        "print(\"Multiplication:\", num1 * num2)\n",
        "if num2 != 0:\n",
        "    print(\"Division:\", num1 / num2)\n",
        "else:\n",
        "    print(\"Division: Cannot divide by zero\")"
      ],
      "metadata": {
        "id": "EQU-FTHfmpkB"
      },
      "execution_count": null,
      "outputs": []
    },
    {
      "cell_type": "code",
      "source": [
        "#8 Write a program to demonstrate the use of logical operators.\n",
        "a = int(input(\"Enter first number: \"))\n",
        "b = int(input(\"Enter second number: \"))\n",
        "\n",
        "if a > 0 and b > 0:\n",
        "    print(\"Both numbers are positive.\")\n",
        "else:\n",
        "    print(\"At least one number is not positive.\")\n",
        "\n",
        "if a == 0 or b == 0:\n",
        "    print(\"At least one number is zero.\")\n",
        "else:\n",
        "    print(\"Neither number is zero.\")\n",
        "\n",
        "print(\"Negation of (a > b):\", not (a > b))"
      ],
      "metadata": {
        "id": "KO5EJgm8nnvl"
      },
      "execution_count": null,
      "outputs": []
    },
    {
      "cell_type": "code",
      "source": [
        "#9 Write a Python program to convert user input from string to integer, float, and boolean types.\n",
        "user_input = input(\"Enter a value: \")\n",
        "\n",
        "try:\n",
        "    int_value = int(user_input)\n",
        "    print(\"Integer:\", int_value)\n",
        "except ValueError:\n",
        "    print(\"Cannot convert to Integer\")\n",
        "\n",
        "try:\n",
        "    float_value = float(user_input)\n",
        "    print(\"Float:\", float_value)\n",
        "except ValueError:\n",
        "    print(\"Cannot convert to Float\")\n",
        "\n",
        "bool_value = bool(user_input)\n",
        "print(\"Boolean:\", bool_value)"
      ],
      "metadata": {
        "id": "M4MzfOvSoIJK"
      },
      "execution_count": null,
      "outputs": []
    },
    {
      "cell_type": "code",
      "source": [
        "#10 Write code to demonstrate type casting with list elements.\n",
        "str_list = [\"10\", \"20\", \"30\", \"40.5\", \"50.0\"]\n",
        "int_list = []\n",
        "float_list = []\n",
        "for item in str_list:\n",
        "    try:\n",
        "        int_list.append(int(float(item)))\n",
        "        float_list.append(float(item))\n",
        "    except ValueError:\n",
        "        print(f\"Cannot convert '{item}' to number.\")\n",
        "print(\"Original string list:\", str_list)\n",
        "print(\"Converted to integers:\", int_list)\n",
        "print(\"Converted to floats:\", float_list)"
      ],
      "metadata": {
        "id": "nFjL7Pu-a8ar"
      },
      "execution_count": null,
      "outputs": []
    },
    {
      "cell_type": "code",
      "source": [
        "#11 Write a program that checks if a number is positive, negative, or zero.\n",
        "num = float(input(\"Enter a number: \"))\n",
        "if num > 0:\n",
        "    print(\"The number is positive.\")\n",
        "elif num < 0:\n",
        "    print(\"The number is negative.\")\n",
        "else:\n",
        "    print(\"The number is zero.\")"
      ],
      "metadata": {
        "id": "FxIKvlKcbUMS"
      },
      "execution_count": null,
      "outputs": []
    },
    {
      "cell_type": "code",
      "source": [
        "#12. Write a for loop to print numbers from 1 to 10.\n",
        "for i in range(1, 11):\n",
        "    print(i)"
      ],
      "metadata": {
        "id": "VzFG9eozbjoB"
      },
      "execution_count": null,
      "outputs": []
    },
    {
      "cell_type": "code",
      "source": [
        "#13 Write a Python program to find the sum of all even numbers between 1 and 50.\n",
        "even_sum = 0\n",
        "for num in range(1, 51):\n",
        "    if num % 2 == 0:\n",
        "        even_sum += num\n",
        "print(\"Sum of even numbers from 1 to 50 is:\", even_sum)"
      ],
      "metadata": {
        "id": "4aU1DD0jbtyf"
      },
      "execution_count": null,
      "outputs": []
    },
    {
      "cell_type": "code",
      "source": [
        "#14 Write a program to reverse a string using a while loop.\n",
        "original = input(\"Enter a string: \")\n",
        "reversed_str = \"\"\n",
        "index = len(original) - 1\n",
        "while index >= 0:\n",
        "    reversed_str += original[index]\n",
        "    index -= 1\n",
        "print(\"Reversed string:\", reversed_str)"
      ],
      "metadata": {
        "id": "L8zWaBm3b6lI"
      },
      "execution_count": null,
      "outputs": []
    },
    {
      "cell_type": "code",
      "source": [
        "#15. Write a Python program to calculate the factorial of a number provided by the user using a while loop.\n",
        "num = int(input(\"Enter a non-negative integer: \"))\n",
        "if num < 0:\n",
        "    print(\"Factorial is not defined for negative numbers.\")\n",
        "else:\n",
        "    factorial = 1\n",
        "    i = 1\n",
        "    while i <= num:\n",
        "        factorial *= i\n",
        "        i += 1\n",
        "    print(f\"The factorial of {num} is: {factorial}\")"
      ],
      "metadata": {
        "id": "9MLEBIcqcM7Z"
      },
      "execution_count": null,
      "outputs": []
    }
  ],
  "metadata": {
    "colab": {
      "name": "Welcome to Colab",
      "toc_visible": true,
      "provenance": []
    },
    "kernelspec": {
      "display_name": "Python 3",
      "name": "python3"
    }
  },
  "nbformat": 4,
  "nbformat_minor": 0
}